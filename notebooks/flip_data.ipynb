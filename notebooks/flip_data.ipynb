{
 "cells": [
  {
   "cell_type": "code",
   "execution_count": 25,
   "metadata": {},
   "outputs": [],
   "source": [
    "\n",
    "import numpy as np\n",
    "\n",
    "from pathlib import Path\n",
    "\n",
    "import matplotlib.pyplot as plt\n"
   ]
  },
  {
   "cell_type": "code",
   "execution_count": 20,
   "metadata": {},
   "outputs": [],
   "source": [
    "\n",
    "data_path = Path(r'C:\\Users\\Kevin\\OneDrive - UCB-O365\\Documents\\Research\\QuadConv\\data\\ignition_grid')\n",
    "\n",
    "save_path = Path(r'C:\\Users\\Kevin\\OneDrive - UCB-O365\\Documents\\Research\\QuadConv\\data\\upside_down_ignition_grid')\n",
    "\n",
    "features_file = data_path.joinpath('features.npy')\n",
    "\n",
    "features = np.load(features_file)\n",
    "\n",
    "grid_features = features.reshape(450, 50, 50, 4)\n",
    "\n",
    "flipped_features = np.flip(grid_features, axis = (1,2))\n",
    "\n"
   ]
  },
  {
   "cell_type": "code",
   "execution_count": null,
   "metadata": {},
   "outputs": [],
   "source": [
    "from torch_geometric.utils import grid\n",
    "\n",
    "grid(50, 50)"
   ]
  },
  {
   "cell_type": "code",
   "execution_count": 22,
   "metadata": {},
   "outputs": [
    {
     "name": "stdout",
     "output_type": "stream",
     "text": [
      "(450, 50, 50, 4)\n"
     ]
    },
    {
     "data": {
      "text/plain": [
       "<matplotlib.image.AxesImage at 0x133f380b2b0>"
      ]
     },
     "execution_count": 22,
     "metadata": {},
     "output_type": "execute_result"
    },
    {
     "data": {
      "image/png": "[encoded data removed]",
      "text/plain": [
       "<Figure size 640x480 with 1 Axes>"
      ]
     },
     "metadata": {},
     "output_type": "display_data"
    }
   ],
   "source": [
    "fig, ax = plt.subplots()\n",
    "\n",
    "print(flipped_features.shape)\n",
    "\n",
    "plt.imshow(flipped_features[10, :, :, 0])"
   ]
  },
  {
   "cell_type": "code",
   "execution_count": 24,
   "metadata": {},
   "outputs": [],
   "source": [
    "np.save(save_path.joinpath('features.npy'), flipped_features.reshape(450,2500,4))"
   ]
  }
 ],
 "metadata": {
  "kernelspec": {
   "display_name": "QuadConv",
   "language": "python",
   "name": "python3"
  },
  "language_info": {
   "codemirror_mode": {
    "name": "ipython",
    "version": 3
   },
   "file_extension": ".py",
   "mimetype": "text/x-python",
   "name": "python",
   "nbconvert_exporter": "python",
   "pygments_lexer": "ipython3",
   "version": "3.9.17"
  },
  "orig_nbformat": 4
 },
 "nbformat": 4,
 "nbformat_minor": 2
}
