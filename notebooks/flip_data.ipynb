{
 "cells": [
  {
   "cell_type": "code",
   "execution_count": 1,
   "metadata": {},
   "outputs": [],
   "source": [
    "\n",
    "import numpy as np\n",
    "\n",
    "from pathlib import Path\n"
   ]
  },
  {
   "cell_type": "code",
   "execution_count": 3,
   "metadata": {},
   "outputs": [],
   "source": [
    "\n",
    "data_path = Path(r'C:\\Users\\Kevin\\OneDrive - UCB-O365\\Documents\\Research\\QuadConv\\data\\ignition_grid')\n",
    "\n",
    "save_path = Path(r'C:\\Users\\Kevin\\OneDrive - UCB-O365\\Documents\\Research\\QuadConv\\data\\upside_down_ignition_grid')\n",
    "\n",
    "features_file = data_path.joinpath('features.npy')\n",
    "\n",
    "features = np.load(features_file)\n",
    "\n",
    "flipped_features = np.flipud(features)\n",
    "\n",
    "np.save(save_path.joinpath('features.npy'), flipped_features)"
   ]
  }
 ],
 "metadata": {
  "kernelspec": {
   "display_name": "QuadConv",
   "language": "python",
   "name": "python3"
  },
  "language_info": {
   "codemirror_mode": {
    "name": "ipython",
    "version": 3
   },
   "file_extension": ".py",
   "mimetype": "text/x-python",
   "name": "python",
   "nbconvert_exporter": "python",
   "pygments_lexer": "ipython3",
   "version": "3.9.17"
  },
  "orig_nbformat": 4
 },
 "nbformat": 4,
 "nbformat_minor": 2
}
